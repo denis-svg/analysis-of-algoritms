{
 "cells": [
  {
   "cell_type": "code",
   "execution_count": 1,
   "id": "d39bbd9a-35d2-45ba-8d19-85691008e916",
   "metadata": {},
   "outputs": [],
   "source": [
    "import time\n",
    "import random\n",
    "import matplotlib.pyplot as plt\n",
    "from copy import deepcopy\n",
    "\n",
    "def time_it(func):\n",
    "    def wrapper(*args, **kwargs):\n",
    "        start = time.perf_counter_ns()\n",
    "        result = func(*args, **kwargs)\n",
    "        end = time.perf_counter_ns()\n",
    "        return (end - start), result\n",
    "    return wrapper\n",
    "\n",
    "def generate_random_array(n):\n",
    "    return [random.randint(0, n) for i in range(n)]"
   ]
  },
  {
   "cell_type": "markdown",
   "id": "7ca87aca-4b96-4642-8012-1ec0f81ee5e2",
   "metadata": {},
   "source": [
    "  <body>\n",
    "    <h1 style=\"text-align: center; font-weight: bold;\">Quick Sort</h1>\n",
    "    <p>Quick sort is a popular sorting algorithm that uses a divide-and-conquer approach to sort an array or list of elements. It works by selecting a pivot element from the array, partitioning the array around the pivot, and recursively sorting the sub-arrays on either side of the pivot. The algorithm has an average time complexity of O(n log n), making it very efficient for large data sets. However, in the worst case scenario, quick sort can have a time complexity of O(n^2), making it less efficient than other sorting algorithms such as merge sort in certain cases.</p>\n",
    "    <b>Quicksort Algorithm Pseudocode:</b>\n",
    "\n",
    "<pre>\n",
    "algorithm quicksort(A, lo, hi) is \n",
    "  if lo >= 0 && hi >= 0 && lo &lt; hi then\n",
    "    p := partition(A, lo, hi) \n",
    "    quicksort(A, lo, p) // Note: the pivot is now included\n",
    "    quicksort(A, p + 1, hi) \n",
    "\n",
    "algorithm partition(A, lo, hi) is \n",
    "  // Pivot value\n",
    "  pivot := A[ floor((hi + lo) / 2) ] // The value in the middle of the array\n",
    "\n",
    "  // Left index\n",
    "  i := lo - 1 \n",
    "\n",
    "  // Right index\n",
    "  j := hi + 1\n",
    "\n",
    "  loop forever \n",
    "    // Move the left index to the right at least once and while the element at\n",
    "    // the left index is less than the pivot\n",
    "    do i := i + 1 while A[i] &lt; pivot\n",
    "    \n",
    "    // Move the right index to the left at least once and while the element at\n",
    "    // the right index is greater than the pivot\n",
    "    do j := j - 1 while A[j] &gt; pivot\n",
    "\n",
    "    // If the indices crossed, return\n",
    "    if i &gt;= j then return j\n",
    "    \n",
    "    // Swap the elements at the left and right indices\n",
    "    swap A[i] with A[j]\n",
    "</pre>\n",
    "\n",
    "  </body>\n"
   ]
  },
  {
   "cell_type": "code",
   "execution_count": 2,
   "id": "adf5bd7e-c7d5-4a74-8d9a-89c1d3e15036",
   "metadata": {
    "tags": []
   },
   "outputs": [],
   "source": [
    "# Function to find the partition position\n",
    "def partition(array, low, high):\n",
    "    # Choose the rightmost element as pivot\n",
    "    pivot = array[high]\n",
    "\n",
    "    # Pointer for greater element\n",
    "    i = low - 1\n",
    "\n",
    "    # Traverse through all elements\n",
    "    # compare each element with pivot\n",
    "    for j in range(low, high):\n",
    "        if array[j] <= pivot:\n",
    "            # If element smaller than pivot is found\n",
    "            # swap it with the greater element pointed by i\n",
    "            i = i + 1\n",
    "\n",
    "            # Swapping element at i with element at j\n",
    "            (array[i], array[j]) = (array[j], array[i])\n",
    "\n",
    "    # Swap the pivot element with\n",
    "    # e greater element specified by i\n",
    "    (array[i + 1], array[high]) = (array[high], array[i + 1])\n",
    "\n",
    "    # Return the position from where partition is done\n",
    "    return i + 1\n",
    "\n",
    "# Function to perform quicksort\n",
    "\n",
    "@time_it\n",
    "def quickSort(array, low, high):\n",
    "    if low < high:\n",
    "\n",
    "        # Find pivot element such that\n",
    "        # element smaller than pivot are on the left\n",
    "        # element greater than pivot are on the right\n",
    "        pi = partition(array, low, high)\n",
    "\n",
    "        # Recursive call on the left of pivot\n",
    "        quickSort(array, low, pi - 1)\n",
    "\n",
    "        # Recursive call on the right of pivot\n",
    "        quickSort(array, pi + 1, high)"
   ]
  },
  {
   "cell_type": "code",
   "execution_count": 3,
   "id": "07732f70-944b-491a-9d1c-bdcd03ed5375",
   "metadata": {},
   "outputs": [
    {
     "name": "stdout",
     "output_type": "stream",
     "text": [
      "Unsorted array [6, 2, 1, 4, 5, 0, 8, 3, 4, 7]\n",
      "(24800, None)\n",
      "Sorted array [0, 1, 2, 3, 4, 4, 5, 6, 7, 8]\n"
     ]
    }
   ],
   "source": [
    "arr = generate_random_array(10)\n",
    "print(F\"\"\"Unsorted array {arr}\"\"\")\n",
    "print(quickSort(arr, 0, 9))\n",
    "print(f\"\"\"Sorted array {arr}\"\"\")"
   ]
  },
  {
   "cell_type": "markdown",
   "id": "199ea183-f7df-46e4-b381-b9ccfe362f0d",
   "metadata": {},
   "source": [
    "\n",
    "<h1 style=\"text-align: center; font-weight: bold;\">Merge Sort</h1>\n",
    "<p>Merge sort is a divide-and-conquer algorithm that works by recursively dividing an array into two halves, sorting each half, and then merging the sorted halves back together. It has a time complexity of O(nlogn), which makes it an efficient algorithm for sorting large amounts of data. The key idea behind merge sort is that it is easier to merge two sorted arrays into a single sorted array than it is to sort an unsorted array.</p>\n",
    "<b>Merge Sort Algorithm Pseudocode:</b>\n",
    "\n",
    "<pre>\n",
    "algorithm merge_sort(A) is\n",
    "    if length(A) ≤ 1 then\n",
    "        return A\n",
    "    else\n",
    "        mid ← length(A) / 2\n",
    "        left ← merge_sort(A[1..mid])\n",
    "        right ← merge_sort(A[mid+1..length(A)])\n",
    "        return merge(left, right)\n",
    "\n",
    "algorithm merge(left, right) is\n",
    "    result ← []\n",
    "    while length(left) > 0 and length(right) > 0 do\n",
    "        if first(left) ≤ first(right) then\n",
    "            append first(left) to result\n",
    "            left ← rest(left)\n",
    "        else\n",
    "            append first(right) to result\n",
    "            right ← rest(right)\n",
    "    // either left or right may have elements left\n",
    "    while length(left) > 0 do\n",
    "        append first(left) to result\n",
    "        left ← rest(left)\n",
    "    while length(right) > 0 do\n",
    "        append first(right) to result\n",
    "        right ← rest(right)\n",
    "    return result\n",
    "</pre>\n"
   ]
  },
  {
   "cell_type": "code",
   "execution_count": 4,
   "id": "43b38ce1-711b-4ee2-ba0d-a0547c4442a6",
   "metadata": {},
   "outputs": [],
   "source": [
    "@time_it\n",
    "def mergeSort(arr):\n",
    "    if len(arr) > 1:\n",
    " \n",
    "         # Finding the mid of the array\n",
    "        mid = len(arr)//2\n",
    " \n",
    "        # Dividing the array elements\n",
    "        L = arr[:mid]\n",
    " \n",
    "        # into 2 halves\n",
    "        R = arr[mid:]\n",
    " \n",
    "        # Sorting the first half\n",
    "        mergeSort(L)\n",
    " \n",
    "        # Sorting the second half\n",
    "        mergeSort(R)\n",
    " \n",
    "        i = j = k = 0\n",
    " \n",
    "        # Copy data to temp arrays L[] and R[]\n",
    "        while i < len(L) and j < len(R):\n",
    "            if L[i] <= R[j]:\n",
    "                arr[k] = L[i]\n",
    "                i += 1\n",
    "            else:\n",
    "                arr[k] = R[j]\n",
    "                j += 1\n",
    "            k += 1\n",
    " \n",
    "        # Checking if any element was left\n",
    "        while i < len(L):\n",
    "            arr[k] = L[i]\n",
    "            i += 1\n",
    "            k += 1\n",
    " \n",
    "        while j < len(R):\n",
    "            arr[k] = R[j]\n",
    "            j += 1\n",
    "            k += 1"
   ]
  },
  {
   "cell_type": "code",
   "execution_count": 5,
   "id": "e71490b1-40bf-453a-ba04-4a7f194e4a2a",
   "metadata": {},
   "outputs": [
    {
     "name": "stdout",
     "output_type": "stream",
     "text": [
      "Unsorted array [7, 6, 5, 9, 4, 9, 1, 4, 5, 4]\n",
      "Sorted array [1, 4, 4, 4, 5, 5, 6, 7, 9, 9]\n"
     ]
    }
   ],
   "source": [
    "arr = generate_random_array(10)\n",
    "print(f\"\"\"Unsorted array {arr}\"\"\")\n",
    "mergeSort(arr)\n",
    "print(f\"\"\"Sorted array {arr}\"\"\")"
   ]
  },
  {
   "cell_type": "markdown",
   "id": "49b79a07-9ecb-41a4-801b-6019d823cf83",
   "metadata": {},
   "source": [
    "<h1 style=\"text-align: center; font-weight: bold;\">Heap Sort</h1>\n",
    "<p>Heap sort is a comparison-based sorting algorithm that uses the concept of a binary heap to sort an array of elements. It starts by building a max heap from the array, then repeatedly extracts the maximum element from the heap and places it at the end of the array. This process is repeated until the entire array is sorted. Heap sort has a time complexity of O(n log n) in the worst case and is an in-place sorting algorithm.</p>\n",
    "\n",
    "<b>Heap Sort Algorithm Pseudocode:</b>\n",
    "\n",
    "<pre>\n",
    "algorithm heapsort(A) is\n",
    "    heapify(A)  // Build a max heap from the array\n",
    "    end ← length(A) - 1\n",
    "    while end > 0 do\n",
    "        // Swap the root node (which is the largest element in the heap) with\n",
    "        // the last node in the heap, then \"remove\" the last node by decreasing\n",
    "        // the heap size (i.e. the end index)\n",
    "        swap A[end] with A[0]\n",
    "        end ← end - 1\n",
    "        // \"Sift down\" the root node to restore the max heap property\n",
    "        sift_down(A, 0, end)\n",
    "\n",
    "algorithm heapify(A) is\n",
    "    // Start with the last non-leaf node (i.e. the parent of the last leaf node)\n",
    "    start ← parent(length(A) - 1)\n",
    "    while start ≥ 0 do\n",
    "        // \"Sift down\" the current node to restore the max heap property\n",
    "        sift_down(A, start, length(A) - 1)\n",
    "        start ← start - 1\n",
    "\n",
    "algorithm sift_down(A, start, end) is\n",
    "    root ← start\n",
    "    while left_child(root) ≤ end do\n",
    "        child ← left_child(root)\n",
    "        // Choose the child node with the greatest value\n",
    "        if child + 1 ≤ end and A[child] < A[child + 1] then\n",
    "            child ← child + 1\n",
    "        // If the root node has a greater value than its child, stop sifting\n",
    "        if A[root] ≥ A[child] then\n",
    "            return\n",
    "        // Otherwise, swap the root node with its child and continue sifting\n",
    "        swap A[root] with A[child]\n",
    "        root ← child\n",
    "</pre>\n"
   ]
  },
  {
   "cell_type": "code",
   "execution_count": 6,
   "id": "17dbed19-7286-425e-9ba3-cc140076366b",
   "metadata": {},
   "outputs": [],
   "source": [
    "def heapify(arr, N, i):\n",
    "    largest = i  # Initialize largest as root\n",
    "    l = 2 * i + 1     # left = 2*i + 1\n",
    "    r = 2 * i + 2     # right = 2*i + 2\n",
    " \n",
    "    # See if left child of root exists and is\n",
    "    # greater than root\n",
    "    if l < N and arr[largest] < arr[l]:\n",
    "        largest = l\n",
    " \n",
    "    # See if right child of root exists and is\n",
    "    # greater than root\n",
    "    if r < N and arr[largest] < arr[r]:\n",
    "        largest = r\n",
    " \n",
    "    # Change root, if needed\n",
    "    if largest != i:\n",
    "        arr[i], arr[largest] = arr[largest], arr[i]  # swap\n",
    " \n",
    "        # Heapify the root.\n",
    "        heapify(arr, N, largest)\n",
    " \n",
    "# The main function to sort an array of given size\n",
    " \n",
    "@time_it \n",
    "def heapSort(arr):\n",
    "    N = len(arr)\n",
    " \n",
    "    # Build a maxheap.\n",
    "    for i in range(N//2 - 1, -1, -1):\n",
    "        heapify(arr, N, i)\n",
    " \n",
    "    # One by one extract elements\n",
    "    for i in range(N-1, 0, -1):\n",
    "        arr[i], arr[0] = arr[0], arr[i]  # swap\n",
    "        heapify(arr, i, 0)\n",
    "    return arr"
   ]
  },
  {
   "cell_type": "code",
   "execution_count": 7,
   "id": "bcd0ab33-649b-4f64-93f3-63c9d7c38f18",
   "metadata": {},
   "outputs": [
    {
     "name": "stdout",
     "output_type": "stream",
     "text": [
      "Unsorted array [7, 2, 6, 4, 9, 4, 6, 2, 3, 8]\n",
      "sorted array [2, 2, 3, 4, 4, 6, 6, 7, 8, 9]\n"
     ]
    }
   ],
   "source": [
    "arr = generate_random_array(10)\n",
    "print(f\"\"\"Unsorted array {arr}\"\"\")\n",
    "print(f\"\"\"sorted array {heapSort(arr)[1]}\"\"\")"
   ]
  },
  {
   "cell_type": "markdown",
   "id": "1bc9c60c-bfe2-462a-9b45-66e233079aef",
   "metadata": {},
   "source": [
    "<h1 style=\"text-align: center; font-weight: bold;\">Tim Sort</h1>\n",
    "<p>Timsort is a sorting algorithm that combines the best of both insertion sort and merge sort algorithms. It was designed to perform well on many kinds of real-world data, and is especially efficient on partially ordered data. Timsort first divides the input into small runs, and then merges the runs using a modified merge sort algorithm. It was developed by Tim Peters in 2002, and has been adopted as the default sorting algorithm for many programming languages, including Python, Java, and C# .\n",
    "</p>\n",
    "\n",
    "\n",
    "<b>Timsort pseudocode in python</b>\n",
    "<pre>\n",
    "<code>\n",
    "def timsort(arr):\n",
    "    # Determine the minimum size of each run\n",
    "    min_run = min_run_length(len(arr))\n",
    "\n",
    "    # Divide the array into runs\n",
    "    runs = []\n",
    "    start = 0\n",
    "    while start &lt; len(arr):\n",
    "        end = start + min_run\n",
    "        if end &gt; len(arr):\n",
    "            end = len(arr)\n",
    "        runs.append(insertion_sort(arr[start:end]))\n",
    "        start = end\n",
    "\n",
    "    # Merge the runs\n",
    "    while len(runs) &gt; 1:\n",
    "        a = runs.pop(0)\n",
    "        b = runs.pop(0)\n",
    "        runs.append(merge(a, b))\n",
    "\n",
    "    return runs[0]\n",
    "\n",
    "\n",
    "def insertion_sort(arr):\n",
    "    for i in range(1, len(arr)):\n",
    "        j = i\n",
    "        while j &gt; 0 and arr[j] &lt; arr[j - 1]:\n",
    "            arr[j], arr[j - 1] = arr[j - 1], arr[j]\n",
    "            j -= 1\n",
    "    return arr\n",
    "\n",
    "\n",
    "def merge(a, b):\n",
    "    result = []\n",
    "    while len(a) &gt; 0 and len(b) &gt; 0:\n",
    "        if a[0] &lt;= b[0]:\n",
    "            result.append(a.pop(0))\n",
    "        else:\n",
    "            result.append(b.pop(0))\n",
    "    result += a\n",
    "    result += b\n",
    "    return result\n",
    "\n",
    "\n",
    "def min_run_length(n):\n",
    "    r = 0\n",
    "    while n &gt;= 64:\n",
    "        r |= n &amp; 1\n",
    "        n &gt;&gt;= 1\n",
    "    return n + r\n",
    "</code>\n",
    "</pre>"
   ]
  },
  {
   "cell_type": "code",
   "execution_count": 8,
   "id": "404c3ef8-8519-48a4-b1f9-c3addf466cf9",
   "metadata": {},
   "outputs": [],
   "source": [
    "@time_it\n",
    "def pythonSort(arr):\n",
    "    return sorted(arr)\n",
    "\n"
   ]
  },
  {
   "cell_type": "code",
   "execution_count": 18,
   "id": "0d54e287-b3ee-4555-b775-6ff975dd16d0",
   "metadata": {},
   "outputs": [
    {
     "data": {
      "image/png": "[encoded data removed]",
      "text/plain": [
       "<Figure size 640x480 with 1 Axes>"
      ]
     },
     "metadata": {},
     "output_type": "display_data"
    },
    {
     "data": {
      "image/png": "[encoded data removed]",
      "text/plain": [
       "<Figure size 640x480 with 1 Axes>"
      ]
     },
     "metadata": {},
     "output_type": "display_data"
    }
   ],
   "source": [
    "not_sorted = generate_random_array(1000)\n",
    "plt.bar([i for i in range(len(not_sorted))], not_sorted)\n",
    "plt.title(label=\"not sorted values\")\n",
    "plt.show()\n",
    "\n",
    "time1 = quickSort(not_sorted, 0, len(not_sorted) - 1)[0]\n",
    "\n",
    "plt.bar([i for i in range(len(not_sorted))], not_sorted)\n",
    "plt.title(label=\"sorted values\")\n",
    "plt.show()"
   ]
  },
  {
   "cell_type": "code",
   "execution_count": 17,
   "id": "bf342022-cb4c-4917-8aa5-f7088d05e358",
   "metadata": {},
   "outputs": [
    {
     "data": {
      "image/png": "[encoded data removed]",
      "text/plain": [
       "<Figure size 1600x600 with 1 Axes>"
      ]
     },
     "metadata": {},
     "output_type": "display_data"
    },
    {
     "data": {
      "image/png": "[encoded data removed]",
      "text/plain": [
       "<Figure size 1600x600 with 1 Axes>"
      ]
     },
     "metadata": {},
     "output_type": "display_data"
    }
   ],
   "source": [
    "def plot_sorts(labels):\n",
    "    merge_sort = []\n",
    "    quick_sort = []\n",
    "    heap_sort = []\n",
    "    python_sort = []\n",
    "    for value in labels:\n",
    "        not_sorted = generate_random_array(int(value))\n",
    "        merge_sort.append(mergeSort(deepcopy(not_sorted))[0])\n",
    "        heap_sort.append(heapSort(deepcopy(not_sorted))[0])\n",
    "        python_sort.append(pythonSort(deepcopy(not_sorted))[0])\n",
    "        quick_sort.append(quickSort(not_sorted, 0, len(not_sorted) - 1)[0])\n",
    "\n",
    "\n",
    "    barWidth = 0.1\n",
    "    fig = plt.subplots(figsize =(16, 6))\n",
    "\n",
    "    br1 = [i for i in range(len(labels))]\n",
    "    br2 = [x + barWidth for x in br1]\n",
    "    br3 = [x + barWidth for x in br2]\n",
    "    br4 = [x + barWidth for x in br3]\n",
    "\n",
    "    plt.bar(br1, merge_sort, color ='blue', width = barWidth,\n",
    "            edgecolor ='grey', label ='merge sort')\n",
    "    plt.bar(br2, quick_sort, color ='green', width = barWidth,\n",
    "            edgecolor ='grey', label ='quick sort')\n",
    "    plt.bar(br3, heap_sort, color ='red', width = barWidth,\n",
    "            edgecolor ='grey', label ='heap_sort')\n",
    "    plt.bar(br4, python_sort, color ='yellow', width = barWidth,\n",
    "            edgecolor ='grey', label ='python sort')\n",
    "\n",
    "    # Adding Xticks\n",
    "    plt.xlabel('array size')\n",
    "    plt.ylabel('time(ns)')\n",
    "    plt.xticks([r + barWidth * 2 for r in range(len(labels))],\n",
    "            labels, rotation=90)\n",
    "\n",
    "    plt.legend()\n",
    "    plt.show()\n",
    "\n",
    "plot_sorts(['10000', '100000', '200000', '400000'])\n",
    "plot_sorts(['100', '200', '400', '600'])"
   ]
  },
  {
   "cell_type": "code",
   "execution_count": null,
   "id": "54cc09ff-987b-49f5-9ca4-b8f9ced3214c",
   "metadata": {},
   "outputs": [],
   "source": []
  }
 ],
 "metadata": {
  "kernelspec": {
   "display_name": "Python 3 (ipykernel)",
   "language": "python",
   "name": "python3"
  },
  "language_info": {
   "codemirror_mode": {
    "name": "ipython",
    "version": 3
   },
   "file_extension": ".py",
   "mimetype": "text/x-python",
   "name": "python",
   "nbconvert_exporter": "python",
   "pygments_lexer": "ipython3",
   "version": "3.9.0"
  }
 },
 "nbformat": 4,
 "nbformat_minor": 5
}
